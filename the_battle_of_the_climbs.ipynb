{
 "cells": [
  {
   "cell_type": "markdown",
   "metadata": {},
   "source": [
    " # Capstone Project\n"
   ]
  },
  {
   "cell_type": "markdown",
   "metadata": {},
   "source": [
    "## THE BATTLE OF THE CLIMBS"
   ]
  },
  {
   "cell_type": "markdown",
   "metadata": {},
   "source": [
    "## Table of contents\n",
    "* [Introduction: Business Problem](#introduction)\n",
    "* [Data](#data)\n",
    "* [Methodology](#methodology)\n",
    "* [Analysis](#analysis)\n",
    "* [Results and Discussion](#results)\n",
    "* [Conclusion](#conclusion)"
   ]
  },
  {
   "cell_type": "markdown",
   "metadata": {},
   "source": [
    "### INTRODUCTION <a name=\"introduction\"></a>"
   ]
  },
  {
   "cell_type": "markdown",
   "metadata": {},
   "source": [
    "<p>Climbing has become extremely popular and as such, I would like to determine where the optimal location would be to open up a retail store and guiding service in Alberta. In this report, I will specifically look at the most popular and best climbing areas in Alberta, and cross reference this information against outdoor retail stores, climbing gyms, and population density of the areas.</p>\n",
    "<p>This report will be targeted to individuals and/or corporations looking to open retail stores, guiding services, and/or sell climbing equipment.</p>\n",
    "<p>There are many popular, well known climbing areas that have retail stores and gyms within their vicinity, so I aim to look at lesser travelled areas in Alberta. The goal is to provide location recommendations to the stakeholders.</p>\n"
   ]
  },
  {
   "cell_type": "markdown",
   "metadata": {},
   "source": [
    "### DATA <a name=\"data\"></a>"
   ]
  },
  {
   "cell_type": "markdown",
   "metadata": {},
   "source": [
    "As mentioned, I will be taking a look at the following factors:\n",
    "* The number of climbs in a given area\n",
    "* the highest rated (or best) climbs using user rating data\n",
    "* how often climbers go to the areas using the amount of \"sends\"\n",
    "* the number of outdoor retail stores and climbing gyms in Alberta and how far away they are from the climbing areas\n",
    "\n",
    "*sends is the number of times the climb or problem has been completed, as inputed by the climber*\n",
    "\n",
    "Foursquare also allows user to define venues as climbing gyms and rock climbing spots, using the keys below.\n",
    "\n",
    "```\n",
    "Climbing Gym\n",
    "503289d391d4c4b30a586d6a\n",
    "\n",
    "Rock Climbing Spot\n",
    "50328a4b91d4c4b30a586d6b\n",
    "```\n",
    "Using the climbing gym venue designation, I plan to obtain all the locations of rock climbing gyms in Alberta. Additionally, I will also obtain any rock climbing spot information in Alberta to gain location data. Howevever, the majority of the rock climb location data has been obtained by other sources as mentioned below. As Foursquare isn't likely widely used by climbers to add rock climbing locations, I plan to add the information to Foursquare's database using the post method and add endpoint. \n"
   ]
  },
  {
   "cell_type": "markdown",
   "metadata": {},
   "source": [
    "#### CLIMBING DATA"
   ]
  },
  {
   "cell_type": "markdown",
   "metadata": {},
   "source": [
    "The climbing data has been retrieved from Sendage.com using a PowerShell invoke web request to loop through all the pages of climbs:"
   ]
  },
  {
   "cell_type": "markdown",
   "metadata": {},
   "source": [
    "```\n",
    "for ( $i = 1; $i -lt 411; $i++ ) {\n",
    "Invoke-WebRequest -Uri \"https://sendage.com/api/climbs\" -outfile \"C:\\filepath\\file name$i.json\" `\n",
    "-Method \"POST\" `\n",
    "-Headers @{\n",
    "\"sec-ch-ua\"=\"`\" Not A;Brand`\";v=`\"99`\", `\"Chromium`\";v=`\"90`\", `\"Google Chrome`\";v=`\"90`\"\"\n",
    "  \"Accept\"=\"application/json, text/javascript, */*; q=0.01\"\n",
    "  \"X-Requested-With\"=\"XMLHttpRequest\"\n",
    "  \"sec-ch-ua-mobile\"=\"?0\"\n",
    "  \"User-Agent\"=\"Mozilla/5.0 (Windows NT 10.0; Win64; x64) AppleWebKit/537.36 (KHTML, like Gecko) Chrome/90.0.4430.212 Safari/537.36\"\n",
    "  \"Origin\"=\"https://sendage.com\"\n",
    "  \"Sec-Fetch-Site\"=\"same-origin\"\n",
    "  \"Sec-Fetch-Mode\"=\"cors\"\n",
    "  \"Sec-Fetch-Dest\"=\"empty\"\n",
    "  \"Referer\"=\"https://sendage.com/search\"\n",
    "  \"Accept-Encoding\"=\"gzip, deflate, br\"\n",
    "  \"Accept-Language\"=\"en-US,en;q=0.9\"\n",
    "  \"Cookie\"=\"__utmz=45372454.1622165290.1.1.utmcsr=(direct)|utmccn=(direct)|utmcmd=(none); __gads=ID=f756a2f56863dba7-22155fcebdc7007a:T=1622165290:RT=1622165290:S=ALNI_MYrTxsUPwHV-wQX4DfpI1gIQukTvA; CakeCookie[FeedType]=Q2FrZQ%3D%3D.; __utma=45372454.403148336.1622165290.1622165290.1622168460.2; __utmc=45372454; __utmt=1; __utmb=45372454.8.10.1622168460\"\n",
    "} `\n",
    "-ContentType \"application/x-www-form-urlencoded; charset=UTF-8\" `\n",
    "-Body \"mode=climb&page=$i&term=&areas%5B%5D=5794&area_parents=false&order%5B%5D=sends+DESC&rating=0&sends=0&limit=15&types%5Bb%5D%5Bon%5D=1&types%5Bs%5D%5Bon%5D=1&types%5Bt%5D%5Bon%5D=1\"\n",
    "}\n",
    "```"
   ]
  },
  {
   "cell_type": "markdown",
   "metadata": {},
   "source": [
    "The area information was gathered the same way, using the below request:"
   ]
  },
  {
   "cell_type": "markdown",
   "metadata": {},
   "source": [
    "```\n",
    "Invoke-WebRequest -Uri \"https://sendage.com/areas/get_bounded?n=50.9074266406351&e=-114.72324695492293&s=50.85327246875764&w=-114.88460864925887&zoom=13\" -outfile \"C:\\filepath\\ab_map1.json\" -Headers @{\n",
    "\"sec-ch-ua\"=\"`\" Not;A Brand`\";v=`\"99`\", `\"Google Chrome`\";v=`\"91`\", `\"Chromium`\";v=`\"91`\"\"\n",
    "  \"Accept\"=\"application/json, text/javascript, */*; q=0.01\"\n",
    "  \"X-Requested-With\"=\"XMLHttpRequest\"\n",
    "  \"sec-ch-ua-mobile\"=\"?0\"\n",
    "  \"User-Agent\"=\"Mozilla/5.0 (Windows NT 10.0; Win64; x64) AppleWebKit/537.36 (KHTML, like Gecko) Chrome/91.0.4472.124 Safari/537.36\"\n",
    "  \"Sec-Fetch-Site\"=\"same-origin\"\n",
    "  \"Sec-Fetch-Mode\"=\"cors\"\n",
    "  \"Sec-Fetch-Dest\"=\"empty\"\n",
    "  \"Referer\"=\"https://sendage.com/areas\"\n",
    "  \"Accept-Encoding\"=\"gzip, deflate, br\"\n",
    "  \"Accept-Language\"=\"en-US,en;q=0.9\"\n",
    "  \"Cookie\"=\"__gads=ID=f756a2f56863dba7-22155fcebdc7007a:T=1622165290:RT=1622165290:S=ALNI_MYrTxsUPwHV-wQX4DfpI1gIQukTvA; __utmz=45372454.1624109129.6.2.utmcsr=google|utmccn=(organic)|utmcmd=organic|utmctr=(not%20provided); _ga=GA1.2.403148336.1622165290; __utmc=45372454; SendageSession=41aqan1n07lgg78j08fmegjhr5; wordpress_test_cookie=WP+Cookie+check; JCS_INENREF=https%3A//sendage.com/area/ab-canada; JCS_INENTIM=1626439801744; _wpss_h_=5; _wpss_p_=N%3A3%20%7C%20WzFdW0Nocm9tZSBQREYgUGx1Z2luXSBbMl1bQ2hyb21lIFBERiBWaWV3ZXJdIFszXVtOYXRpdmUgQ2xpZW50XSA%3D; PHPSESSID=dfvg7adirhr7ps40fr4crnr985; wordpress_logged_in_3811572f777979037a3eea8b7b1ddda7=ryanclarke%7C1626612629%7C2glYwOCoiueeSa4q3N9Nty4smAIrz0meNcYsvEXj5Wi%7Cfb79812e16e132753fe491cf3fbbd3caaba126527ccd091f3df4cc7d48203472; CakeCookie[FeedType]=Q2FrZQ%3D%3D.5gAkJ1gA%2BpI%3D; __utma=45372454.403148336.1622165290.1626439478.1626443256.28; __utmt=1; __utmb=45372454.1.10.1626443256\"\n",
    "}\n",
    "```"
   ]
  },
  {
   "cell_type": "markdown",
   "metadata": {},
   "source": [
    "Although area some area information could be downloaded, I still had to extract location data from other websites. The location data is derived from Sendage.com, thecrag.com, and mountainproject.com. \n",
    "\n",
    "*Notes*\n",
    "- mountainproject.com's api is no longer available for free, so it was only used as reference. \n",
    "- thecrag.com's api is also not free, but they provide download capabilities with their data, and the location files were downloaded in .kml format. The kml format was then converted to csv and crossreferenced with the sendage.com data. You have to pay to download the climb information, however. "
   ]
  },
  {
   "cell_type": "markdown",
   "metadata": {},
   "source": [
    "I can then work off the two main datasets; climbs and areas to form one large dataset. I have added the three main tables to an IBM DB2 SQL database which can be accessed via the below token:"
   ]
  },
  {
   "cell_type": "markdown",
   "metadata": {},
   "source": [
    "Here we start importing libraries required to process and analyze the data."
   ]
  },
  {
   "cell_type": "code",
   "execution_count": 2,
   "metadata": {},
   "outputs": [
    {
     "name": "stdout",
     "output_type": "stream",
     "text": [
      "Libraries imported.\n"
     ]
    }
   ],
   "source": [
    "## import all the required libraries\n",
    "import requests \n",
    "import pandas as pd \n",
    "import numpy as np \n",
    "import random \n",
    "import folium \n",
    "import json\n",
    "import matplotlib.cm as cm\n",
    "import matplotlib.colors as colors\n",
    "\n",
    "from bs4 import BeautifulSoup\n",
    "from geopy.geocoders import Nominatim \n",
    "from IPython.display import Image \n",
    "from IPython.core.display import HTML \n",
    "from pandas.io.json import json_normalize\n",
    "from sklearn.cluster import KMeans\n",
    "\n",
    "pd.set_option('display.max_columns', None)\n",
    "pd.set_option('display.max_rows', None)\n",
    "\n",
    "print('Libraries imported.')"
   ]
  },
  {
   "cell_type": "markdown",
   "metadata": {},
   "source": [
    "The climbs data was normalized and consolidated using the code below. The loop iterated through each page, normalizes the data and then appends to a master df, which is then converted to a CSV. The data was converted to a CSV file to allow for better cleaning of the data before the analysis can be completed. The data has been cleaned in Excel and then re-exported as a CSV file. "
   ]
  },
  {
   "cell_type": "markdown",
   "metadata": {},
   "source": [
    "```\n",
    "ab_dfmain = pd.DataFrame(data=None, index=None, columns=None, dtype=None, copy=None)\n",
    "i = 1\n",
    "while i < 6163:\n",
    "    with open('C:\\\\Users\\\\clark\\\\Documents\\\\Coursera Capstone Project\\\\Project Files\\\\Climbing Data\\\\Sendage Data\\\\Alberta Climbing Data\\\\alberta_climbs_pg%i.json' %i, 'r') as myfile:\n",
    "        climbs=myfile.read()\n",
    "    ab = json.loads(climbs)\n",
    "    ab_df = json_normalize(ab['climbs'])\n",
    "    ab_dfmain = ab_dfmain.append(ab_df, ignore_index=True)\n",
    "    ab_dfmain.to_csv('Alberta_Climbs')\n",
    "\n",
    "    i += 1\n",
    "```"
   ]
  },
  {
   "cell_type": "markdown",
   "metadata": {},
   "source": [
    "The cleaned climbs file is then converted back to a pandas dataframe."
   ]
  },
  {
   "cell_type": "code",
   "execution_count": null,
   "metadata": {},
   "outputs": [],
   "source": []
  },
  {
   "cell_type": "markdown",
   "metadata": {},
   "source": [
    "The areas file also needs to be consolidated and cleaned. Below is the code to consolidate the files. The csv file is then cleaned in Excel. "
   ]
  },
  {
   "cell_type": "code",
   "execution_count": 1,
   "metadata": {},
   "outputs": [
    {
     "ename": "NameError",
     "evalue": "name 'pd' is not defined",
     "output_type": "error",
     "traceback": [
      "\u001b[1;31m---------------------------------------------------------------------------\u001b[0m",
      "\u001b[1;31mNameError\u001b[0m                                 Traceback (most recent call last)",
      "\u001b[1;32m<ipython-input-1-1d8234ab1c8a>\u001b[0m in \u001b[0;36m<module>\u001b[1;34m\u001b[0m\n\u001b[1;32m----> 1\u001b[1;33m \u001b[0mab_areas_main\u001b[0m \u001b[1;33m=\u001b[0m \u001b[0mpd\u001b[0m\u001b[1;33m.\u001b[0m\u001b[0mDataFrame\u001b[0m\u001b[1;33m(\u001b[0m\u001b[0mdata\u001b[0m\u001b[1;33m=\u001b[0m\u001b[1;32mNone\u001b[0m\u001b[1;33m,\u001b[0m \u001b[0mindex\u001b[0m\u001b[1;33m=\u001b[0m\u001b[1;32mNone\u001b[0m\u001b[1;33m,\u001b[0m \u001b[0mcolumns\u001b[0m\u001b[1;33m=\u001b[0m\u001b[1;32mNone\u001b[0m\u001b[1;33m,\u001b[0m \u001b[0mdtype\u001b[0m\u001b[1;33m=\u001b[0m\u001b[1;32mNone\u001b[0m\u001b[1;33m,\u001b[0m \u001b[0mcopy\u001b[0m\u001b[1;33m=\u001b[0m\u001b[1;32mNone\u001b[0m\u001b[1;33m)\u001b[0m\u001b[1;33m\u001b[0m\u001b[1;33m\u001b[0m\u001b[0m\n\u001b[0m\u001b[0;32m      2\u001b[0m \u001b[0mi\u001b[0m \u001b[1;33m=\u001b[0m \u001b[1;36m1\u001b[0m\u001b[1;33m\u001b[0m\u001b[1;33m\u001b[0m\u001b[0m\n\u001b[0;32m      3\u001b[0m \u001b[1;32mwhile\u001b[0m \u001b[0mi\u001b[0m \u001b[1;33m<\u001b[0m \u001b[1;36m19\u001b[0m\u001b[1;33m:\u001b[0m\u001b[1;33m\u001b[0m\u001b[1;33m\u001b[0m\u001b[0m\n\u001b[0;32m      4\u001b[0m     \u001b[1;32mwith\u001b[0m \u001b[0mopen\u001b[0m\u001b[1;33m(\u001b[0m\u001b[1;34m'C:\\\\Users\\\\clark\\\\Documents\\\\Coursera Capstone Project\\\\Project Files\\\\Climbing Data\\\\Sendage Data\\\\Alberta Climbing Data\\\\ab_map%i.json'\u001b[0m \u001b[1;33m%\u001b[0m\u001b[0mi\u001b[0m\u001b[1;33m,\u001b[0m \u001b[1;34m'r'\u001b[0m\u001b[1;33m)\u001b[0m \u001b[1;32mas\u001b[0m \u001b[0mmyfile\u001b[0m\u001b[1;33m:\u001b[0m\u001b[1;33m\u001b[0m\u001b[1;33m\u001b[0m\u001b[0m\n\u001b[0;32m      5\u001b[0m         \u001b[0mareas\u001b[0m\u001b[1;33m=\u001b[0m\u001b[0mmyfile\u001b[0m\u001b[1;33m.\u001b[0m\u001b[0mread\u001b[0m\u001b[1;33m(\u001b[0m\u001b[1;33m)\u001b[0m\u001b[1;33m\u001b[0m\u001b[1;33m\u001b[0m\u001b[0m\n",
      "\u001b[1;31mNameError\u001b[0m: name 'pd' is not defined"
     ]
    }
   ],
   "source": [
    "ab_areas_main = pd.DataFrame(data=None, index=None, columns=None, dtype=None, copy=None)\n",
    "i = 1\n",
    "while i < 19:\n",
    "    with open('C:\\\\Users\\\\clark\\\\Documents\\\\Coursera Capstone Project\\\\Project Files\\\\Climbing Data\\\\Sendage Data\\\\Alberta Climbing Data\\\\ab_map%i.json' %i, 'r') as myfile:\n",
    "        areas=myfile.read()\n",
    "    ab_areas = json.loads(areas)\n",
    "    ab_areas_df = json_normalize(ab_areas)\n",
    "    ab_areas_main = ab_areas_main.append(ab_areas_df, ignore_index=True)\n",
    "    ab_areas_main.to_csv('Alberta_Climbs_Areas.csv')\n",
    "\n",
    "    i += 1"
   ]
  },
  {
   "cell_type": "code",
   "execution_count": null,
   "metadata": {},
   "outputs": [],
   "source": []
  }
 ],
 "metadata": {
  "kernelspec": {
   "display_name": "Python 3",
   "language": "python",
   "name": "python3"
  },
  "language_info": {
   "codemirror_mode": {
    "name": "ipython",
    "version": 3
   },
   "file_extension": ".py",
   "mimetype": "text/x-python",
   "name": "python",
   "nbconvert_exporter": "python",
   "pygments_lexer": "ipython3",
   "version": "3.7.4"
  }
 },
 "nbformat": 4,
 "nbformat_minor": 4
}
